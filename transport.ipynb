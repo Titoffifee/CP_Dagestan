{
  "nbformat": 4,
  "nbformat_minor": 0,
  "metadata": {
    "colab": {
      "name": "transport.ipynb",
      "provenance": [],
      "mount_file_id": "15fM_BIxmr_8BANhR03Kc2SmfL58NnZ9e",
      "authorship_tag": "ABX9TyMk+PIDTGi26c85VRR3ihIt",
      "include_colab_link": true
    },
    "kernelspec": {
      "name": "python3",
      "display_name": "Python 3"
    },
    "language_info": {
      "name": "python"
    }
  },
  "cells": [
    {
      "cell_type": "markdown",
      "metadata": {
        "id": "view-in-github",
        "colab_type": "text"
      },
      "source": [
        "<a href=\"https://colab.research.google.com/github/Titoffifee/CP_Dagestan/blob/main/transport.ipynb\" target=\"_parent\"><img src=\"https://colab.research.google.com/assets/colab-badge.svg\" alt=\"Open In Colab\"/></a>"
      ]
    },
    {
      "cell_type": "code",
      "source": [
        "import pandas as pd\n",
        "import numpy as np\n",
        "import matplotlib\n",
        "import matplotlib.pyplot as plt\n",
        "import seaborn as sns\n",
        "from catboost import CatBoostClassifier\n",
        "from sklearn.model_selection import cross_validate, cross_val_score\n",
        "from sklearn.metrics import recall_score, make_scorer, f1_score\n",
        "\n",
        "df = pd.read_csv('drive/MyDrive/transport/train.csv')"
      ],
      "metadata": {
        "id": "BFvSLY5CzgfS"
      },
      "execution_count": 2,
      "outputs": []
    },
    {
      "cell_type": "code",
      "source": [
        "y_labels = ['Погибло', 'Погибло детей', 'Ранено', 'Ранено детей']\n",
        "delete = ['id', 'Километр', 'Метр', 'Дом', 'Дата']"
      ],
      "metadata": {
        "id": "AmORcrEo0uSt"
      },
      "execution_count": 3,
      "outputs": []
    },
    {
      "cell_type": "code",
      "source": [
        "train, y0 = df.drop(delete + y_labels, axis=1), df[y_labels]"
      ],
      "metadata": {
        "id": "UfNPMkPS6ccD"
      },
      "execution_count": 4,
      "outputs": []
    },
    {
      "cell_type": "code",
      "source": [
        "train['Вид ДТП'] = train['Вид ДТП'].fillna('Неизвестно')\n",
        "train['Улица'] = train['Улица'].fillna('На шоссе')\n",
        "train['Дорога'] = train['Дорога'].fillna('В городе')"
      ],
      "metadata": {
        "id": "hD31kkc-8DVl"
      },
      "execution_count": 5,
      "outputs": []
    },
    {
      "cell_type": "code",
      "source": [
        "from datetime import time\n",
        "\n",
        "# 7:50-9:50 и 18:00-20:20 - час пик\n",
        "# 23:00 - 6:00 - ночь\n",
        "\n",
        "ph0, ph1, ph2, ph3 = time(7, 50, 0), time(9, 50, 0), time(18, 0, 0), time(20, 20, 0)\n",
        "night0, night1 = time(23, 0, 0), time(6, 0, 0)\n",
        "\n",
        "def GetGoodTime(tm):\n",
        "  ans = pd.Series([0] * 2, index=['Час пик', 'Ночь'])\n",
        "  tm = [int(i) for i in tm.split(':')]\n",
        "  t = time(hour=tm[0], minute=tm[1], second=tm[2])\n",
        "  if ph0 <= t <= ph1 or ph2 <= t <= ph3:\n",
        "    ans['Час пик'] = 1\n",
        "  if t >= night0 or t <= night1:\n",
        "    ans['Ночь'] = 1\n",
        "  return ans\n",
        "\n",
        "train_time = train['Время'].apply(GetGoodTime)\n",
        "train = train.drop(['Время'], axis=1)\n",
        "train = pd.concat([train, train_time], axis=1)"
      ],
      "metadata": {
        "id": "75IJyQl_uLoK"
      },
      "execution_count": 6,
      "outputs": []
    },
    {
      "cell_type": "code",
      "source": [
        "test = pd.read_csv('drive/MyDrive/transport/test.csv')\n",
        "test = test.drop(delete, axis=1)\n",
        "test['Вид ДТП'] = test['Вид ДТП'].fillna('Неизвестно')\n",
        "test['Улица'] = test['Улица'].fillna('На шоссе')\n",
        "test['Дорога'] = test['Дорога'].fillna('В городе')\n",
        "test_time = test['Время'].apply(GetGoodTime)\n",
        "test = test.drop(['Время'], axis=1)\n",
        "test = pd.concat([test, test_time], axis=1)"
      ],
      "metadata": {
        "id": "acLh7NcX9trM"
      },
      "execution_count": 7,
      "outputs": []
    },
    {
      "cell_type": "code",
      "source": [
        "obj = ['Место', 'Вид ДТП', 'Улица', 'Дорога']\n",
        "max_value = 9\n",
        "model = CatBoostClassifier(silent=True, cat_features=obj, random_seed=0,\n",
        "                              loss_function='Logloss', auto_class_weights='Balanced')\n",
        "index_name = dict()\n",
        "index_name_list = []\n",
        "for name in y_labels:\n",
        "  index_name[name] = [name + str(i) for i in range(1, max_value+1)]\n",
        "  index_name_list += index_name[name]"
      ],
      "metadata": {
        "id": "TlSOxYrL-aJM"
      },
      "execution_count": 94,
      "outputs": []
    },
    {
      "cell_type": "code",
      "source": [
        "def CreateY(ser):\n",
        "  ans = pd.Series(dtype=int)\n",
        "  for name in y_labels:\n",
        "    r = pd.Series([0] * max_value, index=index_name[name], dtype=int)\n",
        "    for i in range(1, ser[name] + 1):\n",
        "      r[name + str(i)] = 1\n",
        "    ans = pd.concat([ans, r])\n",
        "  return ans\n",
        "y = y0.apply(CreateY, axis=1)\n",
        "y"
      ],
      "metadata": {
        "id": "L7YAzTr6xG-0"
      },
      "execution_count": null,
      "outputs": []
    },
    {
      "cell_type": "code",
      "source": [
        "p = pd.read_csv('drive/MyDrive/transport/solve.csv')\n",
        "new_columns = p[y_labels].apply(CreateY, axis=1)\n",
        "p = pd.concat([p['id'], new_columns], axis=1)"
      ],
      "metadata": {
        "id": "ZB4Bb5ZZCRS1"
      },
      "execution_count": 95,
      "outputs": []
    },
    {
      "cell_type": "code",
      "source": [
        "for name in y_labels:\n",
        "  for i in range(1, max_value + 1):\n",
        "    ind, last_ind = name + str(i), name + str(i-1)\n",
        "    if i == 1:\n",
        "      data_train = train\n",
        "      data_test = test\n",
        "    else:\n",
        "      data_train = pd.concat([train, y[last_ind]], axis=1)\n",
        "      data_test = pd.concat([test, p[last_ind]], axis=1)\n",
        "    print(ind, 'WORK')\n",
        "    if len(y[ind].unique()) == 1:\n",
        "      break\n",
        "    model.fit(data_train, y[ind])\n",
        "    p[ind] = model.predict(data_test)\n",
        "  print(name, 'OK')\n",
        "p"
      ],
      "metadata": {
        "id": "YV6dCUtvF7iU"
      },
      "execution_count": null,
      "outputs": []
    },
    {
      "cell_type": "code",
      "source": [
        "def CreateRes(ser):\n",
        "  ans = pd.Series([0] * 4, index=y_labels)\n",
        "  for name in y_labels:\n",
        "    r = 0\n",
        "    for i in range(1, max_value + 1):\n",
        "      if ser[name + str(i)] == 1:\n",
        "        r = i\n",
        "    ans[name] = r\n",
        "  return ans"
      ],
      "metadata": {
        "id": "ANXhyJQwH9it"
      },
      "execution_count": 92,
      "outputs": []
    },
    {
      "cell_type": "code",
      "source": [
        "col = p[index_name_list].apply(CreateRes, axis=1)\n",
        "p = pd.concat([p['id'], col], axis=1)\n",
        "p.to_csv('drive/MyDrive/transport/ans.csv', index=False)"
      ],
      "metadata": {
        "id": "ljMHorlogZEb"
      },
      "execution_count": 97,
      "outputs": []
    }
  ]
}