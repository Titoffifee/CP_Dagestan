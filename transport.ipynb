{
  "nbformat": 4,
  "nbformat_minor": 0,
  "metadata": {
    "colab": {
      "name": "transport.ipynb",
      "provenance": [],
      "mount_file_id": "15fM_BIxmr_8BANhR03Kc2SmfL58NnZ9e",
      "authorship_tag": "ABX9TyN9oMtwY45MJRL6scP6xFq2",
      "include_colab_link": true
    },
    "kernelspec": {
      "name": "python3",
      "display_name": "Python 3"
    },
    "language_info": {
      "name": "python"
    }
  },
  "cells": [
    {
      "cell_type": "markdown",
      "metadata": {
        "id": "view-in-github",
        "colab_type": "text"
      },
      "source": [
        "<a href=\"https://colab.research.google.com/github/Titoffifee/CP_Dagestan/blob/main/transport.ipynb\" target=\"_parent\"><img src=\"https://colab.research.google.com/assets/colab-badge.svg\" alt=\"Open In Colab\"/></a>"
      ]
    },
    {
      "cell_type": "code",
      "source": [
        "import pandas as pd\n",
        "import numpy as np\n",
        "import matplotlib\n",
        "import matplotlib.pyplot as plt\n",
        "import seaborn as sns\n",
        "from catboost import CatBoostClassifier\n",
        "from sklearn.model_selection import cross_validate, train_test_split\n",
        "from sklearn.metrics import make_scorer, f1_score, recall_score\n",
        "\n",
        "df = pd.read_csv('drive/MyDrive/transport/train.csv')"
      ],
      "metadata": {
        "id": "BFvSLY5CzgfS"
      },
      "execution_count": 16,
      "outputs": []
    },
    {
      "cell_type": "code",
      "source": [
        "train.info()"
      ],
      "metadata": {
        "colab": {
          "base_uri": "https://localhost:8080/"
        },
        "id": "Gz69YqIzq997",
        "outputId": "f85dd95b-662a-4d8d-e772-d9dc121d683a"
      },
      "execution_count": 20,
      "outputs": [
        {
          "output_type": "stream",
          "name": "stdout",
          "text": [
            "<class 'pandas.core.frame.DataFrame'>\n",
            "Int64Index: 35756 entries, 0 to 35770\n",
            "Data columns (total 9 columns):\n",
            " #   Column    Non-Null Count  Dtype \n",
            "---  ------    --------------  ----- \n",
            " 0   Место     35756 non-null  object\n",
            " 1   Улица     35756 non-null  object\n",
            " 2   Дорога    35756 non-null  object\n",
            " 3   Вид ДТП   35756 non-null  object\n",
            " 4   Час пик   35756 non-null  int64 \n",
            " 5   Ночь      35756 non-null  int64 \n",
            " 6   Зима      35756 non-null  int64 \n",
            " 7   Пятница   35756 non-null  int64 \n",
            " 8   Выходные  35756 non-null  int64 \n",
            "dtypes: int64(5), object(4)\n",
            "memory usage: 2.7+ MB\n"
          ]
        }
      ]
    },
    {
      "cell_type": "code",
      "source": [
        "y_labels = ['Погибло детей', 'Ранено детей', 'Погибло', 'Ранено']\n",
        "delete = ['id', 'Километр', 'Метр', 'Дом']"
      ],
      "metadata": {
        "id": "AmORcrEo0uSt"
      },
      "execution_count": 5,
      "outputs": []
    },
    {
      "cell_type": "code",
      "source": [
        "df = df[df['Ранено'] <= 5]\n",
        "train, y0 = df.drop(delete + y_labels, axis=1), df[y_labels]"
      ],
      "metadata": {
        "id": "UfNPMkPS6ccD"
      },
      "execution_count": 15,
      "outputs": []
    },
    {
      "cell_type": "code",
      "source": [
        "train['Вид ДТП'] = train['Вид ДТП'].fillna('Неизвестно')\n",
        "train['Улица'] = train['Улица'].fillna('На шоссе')\n",
        "train['Дорога'] = train['Дорога'].fillna('В городе')"
      ],
      "metadata": {
        "id": "hD31kkc-8DVl"
      },
      "execution_count": 17,
      "outputs": []
    },
    {
      "cell_type": "code",
      "source": [
        "from datetime import time, date\n",
        "\n",
        "# 7:40-9:30 и 18:00-20:20 - час пик\n",
        "# 23:00 - 6:00 - ночь\n",
        "\n",
        "ph0, ph1, ph2, ph3 = time(7, 40, 0), time(9, 30, 0), time(18, 0, 0), time(20, 20, 0)\n",
        "night0, night1 = time(23, 0, 0), time(6, 0, 0)\n",
        "\n",
        "def GetGoodTime(tm):\n",
        "  ans = pd.Series([0] * 2, index=['Час пик', 'Ночь'])\n",
        "  tm = [int(i) for i in tm.split(':')]\n",
        "  t = time(hour=tm[0], minute=tm[1], second=tm[2])\n",
        "  if ph0 <= t <= ph1 or ph2 <= t <= ph3:\n",
        "    ans['Час пик'] = 1\n",
        "  if t >= night0 or t <= night1:\n",
        "    ans['Ночь'] = 1\n",
        "  return ans\n",
        "\n",
        "def GetGoodDate(dt):\n",
        "  ans = pd.Series([0] * 3, index=['Зима', 'Пятница', 'Выходные'])\n",
        "  dt = [int(i) for i in dt.split('.')]\n",
        "  dt = date(dt[2], dt[1], dt[0])\n",
        "  if dt.month == 12 or dt.month <= 2:\n",
        "    ans['Зима'] = 1\n",
        "  if dt.weekday() == 4:\n",
        "    ans['Пятница'] = 1\n",
        "  elif dt.weekday() > 4:\n",
        "    ans['Выходные'] = 1\n",
        "  return ans\n",
        "\n",
        "train_time = train['Время'].apply(GetGoodTime)\n",
        "train_date = train['Дата'].apply(GetGoodDate)\n",
        "train = train.drop(['Время', 'Дата'], axis=1)\n",
        "\n",
        "train = pd.concat([train, train_time, train_date], axis=1)"
      ],
      "metadata": {
        "id": "75IJyQl_uLoK"
      },
      "execution_count": 18,
      "outputs": []
    },
    {
      "cell_type": "code",
      "source": [
        "test = pd.read_csv('drive/MyDrive/transport/test.csv')\n",
        "test = test.drop(delete, axis=1)\n",
        "test['Вид ДТП'] = test['Вид ДТП'].fillna('Неизвестно')\n",
        "test['Улица'] = test['Улица'].fillna('На шоссе')\n",
        "test['Дорога'] = test['Дорога'].fillna('В городе')\n",
        "test_time = test['Время'].apply(GetGoodTime)\n",
        "test_date = test['Дата'].apply(GetGoodDate)\n",
        "test = test.drop(['Время', 'Дата'], axis=1)\n",
        "test = pd.concat([test, test_time, test_date], axis=1)"
      ],
      "metadata": {
        "id": "acLh7NcX9trM"
      },
      "execution_count": 19,
      "outputs": []
    },
    {
      "cell_type": "code",
      "source": [
        "obj = ['Место', 'Вид ДТП', 'Улица', 'Дорога']\n",
        "max_value = dict()\n",
        "model = CatBoostClassifier(silent=True, cat_features=obj, random_seed=0, \n",
        "                           loss_function='Logloss')\n",
        "for name in y_labels:\n",
        "  max_value[name] = y0[name].max()\n",
        "\n",
        "index_name = dict()\n",
        "index_name_list = []\n",
        "for name in y_labels:\n",
        "  index_name[name] = [name + str(i) for i in range(1, max_value[name]+1)]\n",
        "  index_name_list += index_name[name]"
      ],
      "metadata": {
        "id": "TlSOxYrL-aJM"
      },
      "execution_count": 10,
      "outputs": []
    },
    {
      "cell_type": "code",
      "source": [
        "def CreateY(ser):\n",
        "  ans = pd.Series(dtype=int)\n",
        "  for name in y_labels:\n",
        "    r = pd.Series([0] * max_value[name], index=index_name[name], dtype=int)\n",
        "    for i in range(1, ser[name] + 1):\n",
        "      r[name + str(i)] = 1\n",
        "    ans = pd.concat([ans, r])\n",
        "  return ans\n",
        "\n",
        "def CreateRes(ser):\n",
        "  ans = pd.Series([0] * 4, index=y_labels)\n",
        "  for name in y_labels:\n",
        "    r = 0\n",
        "    for i in range(1, max_value[name] + 1):\n",
        "      if ser[name + str(i)] == 1:\n",
        "        r = i\n",
        "    ans[name] = r\n",
        "  return ans\n",
        "\n",
        "y = y0.apply(CreateY, axis=1)\n",
        "y"
      ],
      "metadata": {
        "id": "L7YAzTr6xG-0"
      },
      "execution_count": null,
      "outputs": []
    },
    {
      "cell_type": "markdown",
      "source": [
        "Тестирование:"
      ],
      "metadata": {
        "id": "h5J1ZueSzwjY"
      }
    },
    {
      "cell_type": "code",
      "source": [
        "seeds = [0]\n",
        "result = []\n",
        "for seed in seeds:\n",
        "  print(seed, 'START')\n",
        "  X_train, X_test, Y_train, Y_test = train_test_split(train, y, test_size=0.35, random_state=seed)\n",
        "  Y_pred = Y_test.copy()\n",
        "  print('pred work end')\n",
        "  for name in y_labels:\n",
        "    print(name)\n",
        "    for i in range(1, max_value[name] + 1):\n",
        "      ind, last_ind = name + str(i), name + str(i-1)\n",
        "      if i == 1:\n",
        "        data_train = X_train\n",
        "        data_test = X_test\n",
        "      else:\n",
        "        data_train = pd.concat([X_train, Y_train[last_ind]], axis=1)\n",
        "        data_test = pd.concat([X_test, Y_pred[last_ind]], axis=1)\n",
        "      model.fit(data_train, Y_train[ind])\n",
        "      Y_pred[ind] = model.predict(data_test)\n",
        "      print(ind + ' predict end')\n",
        "  print('Start creating result')\n",
        "  y_true_corr = Y_test.apply(CreateRes, axis=1)\n",
        "  y_pred_corr = Y_pred.apply(CreateRes, axis=1)\n",
        "  score = 0\n",
        "  for name in y_labels:\n",
        "    score += recall_score(y_true_corr[name], y_pred_corr[name], average='macro')\n",
        "  print(seed, 'OK')\n",
        "  result.append(score / 4)"
      ],
      "metadata": {
        "id": "hufp951XzyEz"
      },
      "execution_count": null,
      "outputs": []
    },
    {
      "cell_type": "code",
      "source": [
        "result"
      ],
      "metadata": {
        "colab": {
          "base_uri": "https://localhost:8080/"
        },
        "id": "LV34AgGH93oi",
        "outputId": "a2cc18c4-84b6-415a-8290-c390cbe77ae9"
      },
      "execution_count": null,
      "outputs": [
        {
          "output_type": "execute_result",
          "data": {
            "text/plain": [
              "[0.2843858823650961]"
            ]
          },
          "metadata": {},
          "execution_count": 50
        }
      ]
    },
    {
      "cell_type": "markdown",
      "source": [
        "Получение готового ответа:"
      ],
      "metadata": {
        "id": "tqW0eZZSzuoz"
      }
    },
    {
      "cell_type": "code",
      "source": [
        "p = pd.read_csv('drive/MyDrive/transport/solve.csv')\n",
        "p = p[y_labels].apply(CreateY, axis=1)\n",
        "result = pd.read_csv('drive/MyDrive/transport/solve.csv')\n",
        "\n",
        "def CreateResOneObject(ser):\n",
        "  ans = -1\n",
        "  for i in range(len(ser)):\n",
        "    if ser.iloc[i] == 1:\n",
        "      ans = i\n",
        "  return ans + 1"
      ],
      "metadata": {
        "id": "ZB4Bb5ZZCRS1"
      },
      "execution_count": 12,
      "outputs": []
    },
    {
      "cell_type": "code",
      "source": [
        "for name in y_labels:\n",
        "  for i in range(1, max_value[name] + 1):\n",
        "    ind, last_ind = name + str(i), name + str(i-1)\n",
        "    # Добавим связь с предыдущем слоем\n",
        "    if i == 1:\n",
        "      data_train = train\n",
        "      data_test = test\n",
        "    else:\n",
        "      data_train = pd.concat([train, y[last_ind]], axis=1)\n",
        "      data_test = pd.concat([test, p[last_ind]], axis=1)\n",
        "    print(ind, 'WORK')\n",
        "    model.fit(data_train, y[ind])\n",
        "    p[ind] = model.predict(data_test)\n",
        "  print(name, 'predict OK')\n",
        "  result[name] = p[index_name[name]].apply(CreateResOneObject, axis=1)\n",
        "  print(name, 'transform OK')\n",
        "result"
      ],
      "metadata": {
        "id": "YV6dCUtvF7iU",
        "colab": {
          "base_uri": "https://localhost:8080/",
          "height": 788
        },
        "outputId": "889c142b-ad88-46f1-de7c-8c099853d59a"
      },
      "execution_count": 13,
      "outputs": [
        {
          "output_type": "stream",
          "name": "stdout",
          "text": [
            "Погибло детей1 WORK\n",
            "Погибло детей predict OK\n",
            "Погибло детей transform OK\n",
            "Ранено детей1 WORK\n",
            "Ранено детей2 WORK\n",
            "Ранено детей3 WORK\n",
            "Ранено детей4 WORK\n",
            "Ранено детей predict OK\n",
            "Ранено детей transform OK\n",
            "Погибло1 WORK\n",
            "Погибло2 WORK\n",
            "Погибло3 WORK\n",
            "Погибло predict OK\n",
            "Погибло transform OK\n",
            "Ранено1 WORK\n",
            "Ранено2 WORK\n",
            "Ранено3 WORK\n",
            "Ранено4 WORK\n",
            "Ранено5 WORK\n",
            "Ранено predict OK\n",
            "Ранено transform OK\n"
          ]
        },
        {
          "output_type": "execute_result",
          "data": {
            "text/plain": [
              "             id  Погибло  Погибло детей  Ранено  Ранено детей\n",
              "0     490078911        0              0       0             0\n",
              "1     490055448        0              0       0             0\n",
              "2     490054440        0              0       0             0\n",
              "3     490037847        0              0       0             0\n",
              "4     490037049        0              0       0             0\n",
              "...         ...      ...            ...     ...           ...\n",
              "6783  490014641        0              0       0             0\n",
              "6784  490033115        0              0       0             0\n",
              "6785  490008221        0              0       0             0\n",
              "6786  490119585        0              0       0             0\n",
              "6787  490109680        0              0       0             0\n",
              "\n",
              "[6788 rows x 5 columns]"
            ],
            "text/html": [
              "\n",
              "  <div id=\"df-30ee06ce-3059-4e92-bc01-81beb9f3c95a\">\n",
              "    <div class=\"colab-df-container\">\n",
              "      <div>\n",
              "<style scoped>\n",
              "    .dataframe tbody tr th:only-of-type {\n",
              "        vertical-align: middle;\n",
              "    }\n",
              "\n",
              "    .dataframe tbody tr th {\n",
              "        vertical-align: top;\n",
              "    }\n",
              "\n",
              "    .dataframe thead th {\n",
              "        text-align: right;\n",
              "    }\n",
              "</style>\n",
              "<table border=\"1\" class=\"dataframe\">\n",
              "  <thead>\n",
              "    <tr style=\"text-align: right;\">\n",
              "      <th></th>\n",
              "      <th>id</th>\n",
              "      <th>Погибло</th>\n",
              "      <th>Погибло детей</th>\n",
              "      <th>Ранено</th>\n",
              "      <th>Ранено детей</th>\n",
              "    </tr>\n",
              "  </thead>\n",
              "  <tbody>\n",
              "    <tr>\n",
              "      <th>0</th>\n",
              "      <td>490078911</td>\n",
              "      <td>0</td>\n",
              "      <td>0</td>\n",
              "      <td>0</td>\n",
              "      <td>0</td>\n",
              "    </tr>\n",
              "    <tr>\n",
              "      <th>1</th>\n",
              "      <td>490055448</td>\n",
              "      <td>0</td>\n",
              "      <td>0</td>\n",
              "      <td>0</td>\n",
              "      <td>0</td>\n",
              "    </tr>\n",
              "    <tr>\n",
              "      <th>2</th>\n",
              "      <td>490054440</td>\n",
              "      <td>0</td>\n",
              "      <td>0</td>\n",
              "      <td>0</td>\n",
              "      <td>0</td>\n",
              "    </tr>\n",
              "    <tr>\n",
              "      <th>3</th>\n",
              "      <td>490037847</td>\n",
              "      <td>0</td>\n",
              "      <td>0</td>\n",
              "      <td>0</td>\n",
              "      <td>0</td>\n",
              "    </tr>\n",
              "    <tr>\n",
              "      <th>4</th>\n",
              "      <td>490037049</td>\n",
              "      <td>0</td>\n",
              "      <td>0</td>\n",
              "      <td>0</td>\n",
              "      <td>0</td>\n",
              "    </tr>\n",
              "    <tr>\n",
              "      <th>...</th>\n",
              "      <td>...</td>\n",
              "      <td>...</td>\n",
              "      <td>...</td>\n",
              "      <td>...</td>\n",
              "      <td>...</td>\n",
              "    </tr>\n",
              "    <tr>\n",
              "      <th>6783</th>\n",
              "      <td>490014641</td>\n",
              "      <td>0</td>\n",
              "      <td>0</td>\n",
              "      <td>0</td>\n",
              "      <td>0</td>\n",
              "    </tr>\n",
              "    <tr>\n",
              "      <th>6784</th>\n",
              "      <td>490033115</td>\n",
              "      <td>0</td>\n",
              "      <td>0</td>\n",
              "      <td>0</td>\n",
              "      <td>0</td>\n",
              "    </tr>\n",
              "    <tr>\n",
              "      <th>6785</th>\n",
              "      <td>490008221</td>\n",
              "      <td>0</td>\n",
              "      <td>0</td>\n",
              "      <td>0</td>\n",
              "      <td>0</td>\n",
              "    </tr>\n",
              "    <tr>\n",
              "      <th>6786</th>\n",
              "      <td>490119585</td>\n",
              "      <td>0</td>\n",
              "      <td>0</td>\n",
              "      <td>0</td>\n",
              "      <td>0</td>\n",
              "    </tr>\n",
              "    <tr>\n",
              "      <th>6787</th>\n",
              "      <td>490109680</td>\n",
              "      <td>0</td>\n",
              "      <td>0</td>\n",
              "      <td>0</td>\n",
              "      <td>0</td>\n",
              "    </tr>\n",
              "  </tbody>\n",
              "</table>\n",
              "<p>6788 rows × 5 columns</p>\n",
              "</div>\n",
              "      <button class=\"colab-df-convert\" onclick=\"convertToInteractive('df-30ee06ce-3059-4e92-bc01-81beb9f3c95a')\"\n",
              "              title=\"Convert this dataframe to an interactive table.\"\n",
              "              style=\"display:none;\">\n",
              "        \n",
              "  <svg xmlns=\"http://www.w3.org/2000/svg\" height=\"24px\"viewBox=\"0 0 24 24\"\n",
              "       width=\"24px\">\n",
              "    <path d=\"M0 0h24v24H0V0z\" fill=\"none\"/>\n",
              "    <path d=\"M18.56 5.44l.94 2.06.94-2.06 2.06-.94-2.06-.94-.94-2.06-.94 2.06-2.06.94zm-11 1L8.5 8.5l.94-2.06 2.06-.94-2.06-.94L8.5 2.5l-.94 2.06-2.06.94zm10 10l.94 2.06.94-2.06 2.06-.94-2.06-.94-.94-2.06-.94 2.06-2.06.94z\"/><path d=\"M17.41 7.96l-1.37-1.37c-.4-.4-.92-.59-1.43-.59-.52 0-1.04.2-1.43.59L10.3 9.45l-7.72 7.72c-.78.78-.78 2.05 0 2.83L4 21.41c.39.39.9.59 1.41.59.51 0 1.02-.2 1.41-.59l7.78-7.78 2.81-2.81c.8-.78.8-2.07 0-2.86zM5.41 20L4 18.59l7.72-7.72 1.47 1.35L5.41 20z\"/>\n",
              "  </svg>\n",
              "      </button>\n",
              "      \n",
              "  <style>\n",
              "    .colab-df-container {\n",
              "      display:flex;\n",
              "      flex-wrap:wrap;\n",
              "      gap: 12px;\n",
              "    }\n",
              "\n",
              "    .colab-df-convert {\n",
              "      background-color: #E8F0FE;\n",
              "      border: none;\n",
              "      border-radius: 50%;\n",
              "      cursor: pointer;\n",
              "      display: none;\n",
              "      fill: #1967D2;\n",
              "      height: 32px;\n",
              "      padding: 0 0 0 0;\n",
              "      width: 32px;\n",
              "    }\n",
              "\n",
              "    .colab-df-convert:hover {\n",
              "      background-color: #E2EBFA;\n",
              "      box-shadow: 0px 1px 2px rgba(60, 64, 67, 0.3), 0px 1px 3px 1px rgba(60, 64, 67, 0.15);\n",
              "      fill: #174EA6;\n",
              "    }\n",
              "\n",
              "    [theme=dark] .colab-df-convert {\n",
              "      background-color: #3B4455;\n",
              "      fill: #D2E3FC;\n",
              "    }\n",
              "\n",
              "    [theme=dark] .colab-df-convert:hover {\n",
              "      background-color: #434B5C;\n",
              "      box-shadow: 0px 1px 3px 1px rgba(0, 0, 0, 0.15);\n",
              "      filter: drop-shadow(0px 1px 2px rgba(0, 0, 0, 0.3));\n",
              "      fill: #FFFFFF;\n",
              "    }\n",
              "  </style>\n",
              "\n",
              "      <script>\n",
              "        const buttonEl =\n",
              "          document.querySelector('#df-30ee06ce-3059-4e92-bc01-81beb9f3c95a button.colab-df-convert');\n",
              "        buttonEl.style.display =\n",
              "          google.colab.kernel.accessAllowed ? 'block' : 'none';\n",
              "\n",
              "        async function convertToInteractive(key) {\n",
              "          const element = document.querySelector('#df-30ee06ce-3059-4e92-bc01-81beb9f3c95a');\n",
              "          const dataTable =\n",
              "            await google.colab.kernel.invokeFunction('convertToInteractive',\n",
              "                                                     [key], {});\n",
              "          if (!dataTable) return;\n",
              "\n",
              "          const docLinkHtml = 'Like what you see? Visit the ' +\n",
              "            '<a target=\"_blank\" href=https://colab.research.google.com/notebooks/data_table.ipynb>data table notebook</a>'\n",
              "            + ' to learn more about interactive tables.';\n",
              "          element.innerHTML = '';\n",
              "          dataTable['output_type'] = 'display_data';\n",
              "          await google.colab.output.renderOutput(dataTable, element);\n",
              "          const docLink = document.createElement('div');\n",
              "          docLink.innerHTML = docLinkHtml;\n",
              "          element.appendChild(docLink);\n",
              "        }\n",
              "      </script>\n",
              "    </div>\n",
              "  </div>\n",
              "  "
            ]
          },
          "metadata": {},
          "execution_count": 13
        }
      ]
    },
    {
      "cell_type": "code",
      "source": [
        "result.to_csv('drive/MyDrive/transport/ans.csv', index=False)"
      ],
      "metadata": {
        "id": "ljMHorlogZEb"
      },
      "execution_count": 14,
      "outputs": []
    }
  ]
}